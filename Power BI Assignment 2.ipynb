{
 "cells": [
  {
   "cell_type": "markdown",
   "id": "523df41b",
   "metadata": {},
   "source": [
    "## 1.\tExplain the advantages of Natural Queries in PowerBi with an example?"
   ]
  },
  {
   "cell_type": "markdown",
   "id": "713f1349",
   "metadata": {},
   "source": [
    "Natural Queries allow users to ask questions in plain language to retrieve data and generate visualizations. The advantages include accessibility for non-technical users, faster data exploration, and ease of use. For example, a user could ask, \"Show me the sales revenue by region for the last quarter,\" and Power BI would generate a relevant chart based on this natural language query."
   ]
  },
  {
   "cell_type": "markdown",
   "id": "2b0e089a",
   "metadata": {},
   "source": [
    "## 2.\tExplain Web Front End(WFE) cluster from Power BI Service Architecture?"
   ]
  },
  {
   "cell_type": "markdown",
   "id": "0b460155",
   "metadata": {},
   "source": [
    "The Web Front End (WFE) cluster in Power BI Service Architecture handles user requests and interactions with Power BI reports and dashboards through web browsers and mobile apps. It serves as the user interface layer, managing authentication, authorization, and user sessions. The WFE cluster ensures that users can access and interact with reports and dashboards securely and efficiently."
   ]
  },
  {
   "cell_type": "markdown",
   "id": "f81bb631",
   "metadata": {},
   "source": [
    "## 3.\tExplain Back End cluster from Power BI Service Architecture?"
   ]
  },
  {
   "cell_type": "markdown",
   "id": "8da4d00d",
   "metadata": {},
   "source": [
    "The Back End cluster in Power BI Service Architecture is responsible for data processing, data modeling, and query execution. It manages data storage, refreshes, and transformations. The Back End cluster ensures that data is processed, cached, and optimized for efficient retrieval, allowing users to access and analyze data in real-time."
   ]
  },
  {
   "cell_type": "markdown",
   "id": "3025b1c5",
   "metadata": {},
   "source": [
    "## 4.\tWhat ASP.NET component does in Power BI Service Architecture?"
   ]
  },
  {
   "cell_type": "markdown",
   "id": "bdd8ae4c",
   "metadata": {},
   "source": [
    "The ASP.NET component in Power BI Service Architecture is responsible for handling web requests, routing them to the appropriate clusters (WFE or Back End), and managing the overall web application framework. It plays a crucial role in serving the Power BI web application to users and facilitating communication between various components."
   ]
  },
  {
   "cell_type": "markdown",
   "id": "defd9522",
   "metadata": {},
   "source": [
    "## 5.\tCompare Microsoft Excel and PowerBi Desktop on the following features:"
   ]
  },
  {
   "cell_type": "markdown",
   "id": "1843e0c5",
   "metadata": {},
   "source": [
    "Data Import:\n",
    "\n",
    "Excel: Primarily for manual data entry or simple data import.\n",
    "\n",
    "Power BI Desktop: Designed for connecting to various data sources, including databases, files, and cloud services, with extensive data import capabilities.\n",
    "Data Transformation:\n",
    "\n",
    "Excel: Offers basic data manipulation features.\n",
    "\n",
    "Power BI Desktop: Provides robust data transformation capabilities through Power Query, allowing users to clean, reshape, and transform data.\n",
    "Modeling:\n",
    "\n",
    "Excel: Limited modeling capabilities.\n",
    "\n",
    "Power BI Desktop: Designed for advanced data modeling, relationships, measures, and calculations.\n",
    "Reporting:\n",
    "\n",
    "Excel: Suitable for basic tabular reports and charts.\n",
    "\n",
    "Power BI Desktop: Offers interactive, dynamic, and visually appealing reports and dashboards with a wide range of visuals.\n",
    "Server Deployment:\n",
    "\n",
    "Excel: Typically not deployed on servers for sharing; relies on file sharing.\n",
    "\n",
    "Power BI Desktop: Supports server deployment on Power BI Service for sharing reports and dashboards securely.\n",
    "Convert Models:\n",
    "\n",
    "Excel: Cannot directly convert Excel models to Power BI models.\n",
    "\n",
    "Power BI Desktop: Allows users to import Excel data and enhance it with Power BI features.\n",
    "Cost:\n",
    "\n",
    "Excel: Typically a one-time software purchase or part of Microsoft 365 subscription.\n",
    "\n",
    "Power BI Desktop: Free to download and use. Power BI Service may involve subscription costs for sharing and collaboration."
   ]
  },
  {
   "cell_type": "markdown",
   "id": "a17b3250",
   "metadata": {},
   "source": [
    "## 6.\tList 20 data sources supported by Power Bi desktop."
   ]
  },
  {
   "cell_type": "markdown",
   "id": "dcf02456",
   "metadata": {},
   "source": [
    "Power BI Desktop supports a wide range of data sources, including:\n",
    "\n",
    "Excel workbooks\n",
    "\n",
    "SQL Server databases\n",
    "\n",
    "Azure SQL Database\n",
    "\n",
    "Azure Data Lake Storage\n",
    "\n",
    "SharePoint Online\n",
    "\n",
    "SharePoint Server\n",
    "\n",
    "Oracle databases\n",
    "\n",
    "MySQL databases\n",
    "\n",
    "PostgreSQL databases\n",
    "\n",
    "Web services (REST APIs)\n",
    "\n",
    "Salesforce\n",
    "\n",
    "Google Analytics\n",
    "\n",
    "Dynamics 365\n",
    "\n",
    "JSON files\n",
    "\n",
    "XML files\n",
    "\n",
    "Hadoop HDFS\n",
    "\n",
    "Amazon Redshift\n",
    "\n",
    "Web content (HTML)\n",
    "\n",
    "Folder (for batch processing of files)\n",
    "\n",
    "ODBC and OLE DB data sources\n",
    ".\n",
    "These data sources can be connected to and used to create Power BI reports and dashboards.\n"
   ]
  },
  {
   "cell_type": "code",
   "execution_count": null,
   "id": "a8cdb9ca",
   "metadata": {},
   "outputs": [],
   "source": []
  }
 ],
 "metadata": {
  "kernelspec": {
   "display_name": "Python 3 (ipykernel)",
   "language": "python",
   "name": "python3"
  },
  "language_info": {
   "codemirror_mode": {
    "name": "ipython",
    "version": 3
   },
   "file_extension": ".py",
   "mimetype": "text/x-python",
   "name": "python",
   "nbconvert_exporter": "python",
   "pygments_lexer": "ipython3",
   "version": "3.9.12"
  }
 },
 "nbformat": 4,
 "nbformat_minor": 5
}
